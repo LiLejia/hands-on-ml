{
 "cells": [
  {
   "cell_type": "code",
   "execution_count": 10,
   "metadata": {},
   "outputs": [
    {
     "name": "stdout",
     "output_type": "stream",
     "text": [
      "(20640, 10)\n"
     ]
    }
   ],
   "source": [
    "import pandas as pd\n",
    "import numpy as np\n",
    "import os\n",
    "\n",
    "def load_housing_data(housing_path='./'):\n",
    "    csv_path = os.path.join(housing_path, \"housing.csv\")\n",
    "    return pd.read_csv(csv_path)\n",
    "housing = load_housing_data()"
   ]
  },
  {
   "cell_type": "code",
   "execution_count": 14,
   "metadata": {},
   "outputs": [
    {
     "name": "stdout",
     "output_type": "stream",
     "text": [
      "16512 train + 4128 test\n"
     ]
    }
   ],
   "source": [
    "# Knowing the data\n",
    "# housing['ocean_proximity'].value_counts()\n",
    "# housing.describe()\n",
    "import matplotlib.pyplot as plt\n",
    "%matplotlib inline\n",
    "housing.hist(bins=50, figsize=(20,15))\n",
    "plt.show()"
   ]
  },
  {
   "cell_type": "code",
   "execution_count": 46,
   "metadata": {},
   "outputs": [],
   "source": [
    "import hashlib\n",
    "import numpy as np\n",
    "\n",
    "def identifier_test_number(identifier, test_ratio):\n",
    "    return hashlib.sha256(str(identifier).encode(\"utf-8\")).digest()[-1] < 255*test_ratio\n",
    "\n",
    "def create_train_and_test(dataset, index_column, test_ratio):\n",
    "    ids = dataset[index_column]\n",
    "    test_indice = ids.apply(lambda x:identifier_test_number(x,test_ratio))\n",
    "    return dataset.loc[~test_indice], dataset.loc[test_indice]\n",
    "    \n",
    "# housing_with_id = housing.reset_index()\n",
    "# housing_with_id[\"id\"] = housing[\"longitude\"] * 1000 + housing[\"latitude\"]\n",
    "# train_set, test_set = create_train_and_test(housing_with_id,'id',0.2)"
   ]
  },
  {
   "cell_type": "code",
   "execution_count": 69,
   "metadata": {
    "scrolled": true
   },
   "outputs": [
    {
     "data": {
      "text/plain": [
       "median_house_value          1.000000\n",
       "median_income               0.688075\n",
       "income_cat                  0.643892\n",
       "rooms_per_household         0.151948\n",
       "total_rooms                 0.134153\n",
       "housing_median_age          0.105623\n",
       "households                  0.065843\n",
       "total_bedrooms              0.049686\n",
       "population_per_household   -0.023737\n",
       "population                 -0.024650\n",
       "longitude                  -0.045967\n",
       "latitude                   -0.144160\n",
       "bedrooms_per_room          -0.255880\n",
       "Name: median_house_value, dtype: float64"
      ]
     },
     "execution_count": 69,
     "metadata": {},
     "output_type": "execute_result"
    }
   ],
   "source": [
    "housing[\"income_cat\"] = np.ceil(housing[\"median_income\"] / 1.5) # 除以1.5减少类别，并取整\n",
    "housing[\"income_cat\"].where(housing[\"income_cat\"] < 5, 5.0, inplace=True) # 5.0 封顶\n",
    "\n",
    "from sklearn.model_selection import StratifiedShuffleSplit # Stratified 分层的\n",
    "split = StratifiedShuffleSplit(n_splits=1, test_size=0.2, random_state=42) # n_splits Shuffle次数, \n",
    "for train_index, test_index in split.split(housing, housing['income_cat']):\n",
    "    train_set = housing.loc[train_index]\n",
    "    test_set = housing.loc[test_index]\n",
    "\n",
    "# housing['income_cat'].value_counts()/len(housing)\n",
    "# 3.0    0.350581\n",
    "# 2.0    0.318847\n",
    "# 4.0    0.176308\n",
    "# 5.0    0.114438\n",
    "# 1.0    0.039826\n",
    "# test_set['income_cat'].value_counts()/len(test_set)\n",
    "# 3.0    0.350533\n",
    "# 2.0    0.318798\n",
    "# 4.0    0.176357\n",
    "# 5.0    0.114583\n",
    "# 1.0    0.039729\n",
    "\n",
    "# housing.plot(kind=\"scatter\",x='longitude', y='latitude', alpha='0.1') # 热力图\n",
    "# housing.plot(kind=\"scatter\", x=\"longitude\", y=\"latitude\", alpha=0.4,\n",
    "#          s=housing[\"population\"]/100, label=\"population\",\n",
    "#          c=\"median_house_value\", cmap=plt.get_cmap(\"jet\"), colorbar=True,\n",
    "#      )\n",
    "# plt.legend()\n",
    "\n",
    "# corr_matrix = housing.corr()\n",
    "# corr_matrix[\"median_house_value\"].sort_values(ascending=False)\n",
    "# attributes = [\"median_house_value\",\"median_income\",\"total_rooms\",\"housing_median_age\"]\n",
    "# from pandas.tools.plotting import scatter_matrix\n",
    "# scatter_matrix(housing[attributes],figsize=(12,8))\n",
    "\n",
    "# housing.plot(kind=\"scatter\", x=\"median_income\", y=\"median_house_value\", alpha=0.1)\n",
    "\n",
    "# housing[\"rooms_per_household\"] = housing[\"total_rooms\"]/housing[\"households\"]\n",
    "# housing[\"bedrooms_per_room\"] = housing[\"total_bedrooms\"]/housing[\"total_rooms\"]\n",
    "# housing[\"population_per_household\"]=housing[\"population\"]/housing[\"households\"]\n",
    "# corr_matrix = housing.corr()\n",
    "# corr_matrix[\"median_house_value\"].sort_values(ascending=False)"
   ]
  },
  {
   "cell_type": "code",
   "execution_count": null,
   "metadata": {},
   "outputs": [],
   "source": [
    "housing = train_set.drop(\"median_house_value\", axis=1) # X\n",
    "housing_labels = train_set[\"median_house_value\"].copy() # y"
   ]
  }
 ],
 "metadata": {
  "kernelspec": {
   "display_name": "Python 3",
   "language": "python",
   "name": "python3"
  },
  "language_info": {
   "codemirror_mode": {
    "name": "ipython",
    "version": 3
   },
   "file_extension": ".py",
   "mimetype": "text/x-python",
   "name": "python",
   "nbconvert_exporter": "python",
   "pygments_lexer": "ipython3",
   "version": "3.6.5"
  }
 },
 "nbformat": 4,
 "nbformat_minor": 2
}
