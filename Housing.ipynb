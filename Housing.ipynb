{
 "cells": [
  {
   "cell_type": "code",
   "execution_count": 1,
   "metadata": {},
   "outputs": [],
   "source": [
    "import pandas as pd\n",
    "import numpy as np\n",
    "import os\n",
    "\n",
    "def load_housing_data(housing_path='./'):\n",
    "    csv_path = os.path.join(housing_path, \"housing.csv\")\n",
    "    return pd.read_csv(csv_path)\n",
    "housing = load_housing_data()\n",
    "\n",
    "import hashlib\n",
    "import numpy as np\n",
    "\n",
    "def identifier_test_number(identifier, test_ratio):\n",
    "    return hashlib.sha256(str(identifier).encode(\"utf-8\")).digest()[-1] < 255*test_ratio\n",
    "\n",
    "def create_train_and_test(dataset, index_column, test_ratio):\n",
    "    ids = dataset[index_column]\n",
    "    test_indice = ids.apply(lambda x:identifier_test_number(x,test_ratio))\n",
    "    return dataset.loc[~test_indice], dataset.loc[test_indice]\n",
    "    \n",
    "housing_with_id = housing.reset_index()\n",
    "housing_with_id[\"id\"] = housing[\"longitude\"] * 1000 + housing[\"latitude\"] # This value is much stable\n",
    "train_set, test_set = create_train_and_test(housing_with_id,'id',0.2)\n",
    "\n",
    "# Knowing the data\n",
    "# housing['ocean_proximity'].value_counts()\n",
    "# housing.describe()\n",
    "# import matplotlib.pyplot as plt\n",
    "# %matplotlib inline\n",
    "# housing.hist(bins=50, figsize=(20,15))\n",
    "# plt.show()"
   ]
  },
  {
   "cell_type": "code",
   "execution_count": 2,
   "metadata": {},
   "outputs": [],
   "source": [
    "# Split 20% of test data with classification requrement.\n",
    "import numpy as np\n",
    "housing[\"income_cat\"] = np.ceil(housing[\"median_income\"] / 1.5) # Reduce the classes and make it a integer\n",
    "housing[\"income_cat\"].where(housing[\"income_cat\"] < 5, 5.0, inplace=True) # 5.0 Max\n",
    "\n",
    "from sklearn.model_selection import StratifiedShuffleSplit # Stratified=layered\n",
    "split = StratifiedShuffleSplit(n_splits=1, test_size=0.2, random_state=42) # n_splits How meny, \n",
    "for train_index, test_index in split.split(housing, housing['income_cat']):\n",
    "    train_set = housing.loc[train_index]\n",
    "    test_set = housing.loc[test_index]\n",
    "\n",
    "# housing['income_cat'].value_counts()/len(housing)\n",
    "# 3.0    0.350581\n",
    "# 2.0    0.318847\n",
    "# 4.0    0.176308\n",
    "# 5.0    0.114438\n",
    "# 1.0    0.039826\n",
    "# test_set['income_cat'].value_counts()/len(test_set)\n",
    "# 3.0    0.350533\n",
    "# 2.0    0.318798\n",
    "# 4.0    0.176357\n",
    "# 5.0    0.114583\n",
    "# 1.0    0.039729\n",
    "\n",
    "# housing.plot(kind=\"scatter\",x='longitude', y='latitude', alpha='0.1') # \n",
    "# housing.plot(kind=\"scatter\", x=\"longitude\", y=\"latitude\", alpha=0.4,\n",
    "#          s=housing[\"population\"]/100, label=\"population\",\n",
    "#          c=\"median_house_value\", cmap=plt.get_cmap(\"jet\"), colorbar=True,\n",
    "#      )\n",
    "# plt.legend()\n",
    "\n",
    "# corr_matrix = housing.corr()\n",
    "# corr_matrix[\"median_house_value\"].sort_values(ascending=False)\n",
    "# attributes = [\"median_house_value\",\"median_income\",\"total_rooms\",\"housing_median_age\"]\n",
    "# from pandas.tools.plotting import scatter_matrix\n",
    "# scatter_matrix(housing[attributes],figsize=(12,8))\n",
    "\n",
    "# housing.plot(kind=\"scatter\", x=\"median_income\", y=\"median_house_value\", alpha=0.1)\n",
    "\n",
    "# housing[\"rooms_per_household\"] = housing[\"total_rooms\"]/housing[\"households\"]\n",
    "# housing[\"bedrooms_per_room\"] = housing[\"total_bedrooms\"]/housing[\"total_rooms\"]\n",
    "# housing[\"population_per_household\"]=housing[\"population\"]/housing[\"households\"]\n",
    "# corr_matrix = housing.corr()\n",
    "# corr_matrix[\"median_house_value\"].sort_values(ascending=False)"
   ]
  },
  {
   "cell_type": "code",
   "execution_count": 3,
   "metadata": {},
   "outputs": [],
   "source": [
    "housing = train_set.drop(\"median_house_value\", axis=1) # X DataFrame\n",
    "housing_labels = train_set[\"median_house_value\"].copy() # y Series\n",
    "\n",
    "# Put median value to the emplty fields\n"
   ]
  },
  {
   "cell_type": "code",
   "execution_count": 4,
   "metadata": {},
   "outputs": [],
   "source": [
    "from sklearn.impute import SimpleImputer\n",
    "imputer = SimpleImputer(strategy=\"median\")\n",
    "# Only Work for numerics\n",
    "housing_num = housing.drop(\"ocean_proximity\",axis=1) \n",
    "# find the median Value\n",
    "imputer.fit(housing_num) \n",
    "# Predicted new value \n",
    "X = imputer.transform(housing_num)  # np.ndarray\n"
   ]
  },
  {
   "cell_type": "markdown",
   "metadata": {},
   "source": [
    "- Estimators: Estimate something based on a dataset. Perform `fit()`, takes a dataset as a para. Any other parameter needed to guide the estimation process is considered a hyperparameter (such as an imputer’s strategy), and it must be set as an instance variable (generally via a constructor parameter).\n",
    "- Transformers: transform data with `transform()` method or `fit_transform()` which might optimized.\n",
    "- Predicators: `predict()` method to predict, `score()` method to measure the quality."
   ]
  },
  {
   "cell_type": "code",
   "execution_count": 5,
   "metadata": {},
   "outputs": [
    {
     "ename": "NameError",
     "evalue": "name 'housing_cat' is not defined",
     "output_type": "error",
     "traceback": [
      "\u001b[0;31m---------------------------------------------------------------------------\u001b[0m",
      "\u001b[0;31mNameError\u001b[0m                                 Traceback (most recent call last)",
      "\u001b[0;32m<ipython-input-5-5dcbeb092a80>\u001b[0m in \u001b[0;36m<module>\u001b[0;34m\u001b[0m\n\u001b[1;32m      9\u001b[0m \u001b[0;32mfrom\u001b[0m \u001b[0msklearn\u001b[0m\u001b[0;34m.\u001b[0m\u001b[0mpreprocessing\u001b[0m \u001b[0;32mimport\u001b[0m \u001b[0mLabelBinarizer\u001b[0m\u001b[0;34m\u001b[0m\u001b[0m\n\u001b[1;32m     10\u001b[0m \u001b[0mencoder\u001b[0m \u001b[0;34m=\u001b[0m \u001b[0mLabelBinarizer\u001b[0m\u001b[0;34m(\u001b[0m\u001b[0;34m)\u001b[0m\u001b[0;34m\u001b[0m\u001b[0m\n\u001b[0;32m---> 11\u001b[0;31m \u001b[0mhousing_cat_1hot\u001b[0m \u001b[0;34m=\u001b[0m \u001b[0mencoder\u001b[0m\u001b[0;34m.\u001b[0m\u001b[0mfit_transform\u001b[0m\u001b[0;34m(\u001b[0m\u001b[0mhousing_cat\u001b[0m\u001b[0;34m)\u001b[0m\u001b[0;34m\u001b[0m\u001b[0m\n\u001b[0m\u001b[1;32m     12\u001b[0m \u001b[0mhousing_cat_1hot\u001b[0m\u001b[0;34m\u001b[0m\u001b[0m\n",
      "\u001b[0;31mNameError\u001b[0m: name 'housing_cat' is not defined"
     ]
    }
   ],
   "source": [
    "# from sklearn.preprocessing import LabelEncoder\n",
    "# encoder = LabelEncoder()\n",
    "# housing_cat = housing[\"ocean_proximity\"]\n",
    "# housing_cat_encoded = encoder.fit_transform(housing_cat)\n",
    "# from sklearn.preprocessing import OneHotEncoder\n",
    "# encoder = OneHotEncoder()\n",
    "# housing_cat_1hot = encoder.fit_transform(housing_cat_encoded.reshape(-1,1))\n",
    "\n",
    "from sklearn.preprocessing import LabelBinarizer\n",
    "encoder = LabelBinarizer()\n",
    "housing_cat_1hot = encoder.fit_transform(housing_cat)\n",
    "housing_cat_1hot"
   ]
  },
  {
   "cell_type": "markdown",
   "metadata": {},
   "source": [
    "There are two common ways to get all attributes to have the same scale: \n",
    "- min-max scaling. Min-max scaling (many people call this normalization) is quite simple: values are shifted and rescaled so that they end up ranging from 0 to 1. `MinMaxScaler`, `feature_range` hyperparameter changes the range\n",
    "- standardization. first it subtracts the mean value (so standardized values always have a zero mean). and then it divides by the variance so that the resulting distribution has unit variance. standardization does not bound values to a specific range. However, standardization is much less affected by outliers. `StandardScaler`. "
   ]
  },
  {
   "cell_type": "code",
   "execution_count": 26,
   "metadata": {},
   "outputs": [
    {
     "name": "stdout",
     "output_type": "stream",
     "text": [
      "Labels:\t\t [286600.0, 340600.0, 196900.0, 46300.0, 254500.0]\n",
      "Predictions:\t [203682.37379543 326371.39370781 204218.64588245  58685.4770482\n",
      " 194213.06443039]\n",
      "0.0\n"
     ]
    },
    {
     "name": "stderr",
     "output_type": "stream",
     "text": [
      "/usr/local/lib/python3.6/site-packages/sklearn/ensemble/forest.py:246: FutureWarning: The default value of n_estimators will change from 10 in version 0.20 to 100 in 0.22.\n",
      "  \"10 in version 0.20 to 100 in 0.22.\", FutureWarning)\n"
     ]
    },
    {
     "name": "stdout",
     "output_type": "stream",
     "text": [
      "Scores: [52372.19246081 50382.92021059 53039.86728643 54948.31545069\n",
      " 51143.83677275 55732.49332559 51105.18311761 49143.48051291\n",
      " 55114.73517696 52292.12357788]\n",
      "Mean: 52527.51478922252\n",
      "Standard deviation: 2077.4137251063216\n"
     ]
    }
   ],
   "source": [
    "from sklearn.base import BaseEstimator, TransformerMixin\n",
    "\n",
    "rooms_ix, bedrooms_ix, population_ix, household_ix = 3, 4, 5, 6\n",
    "\n",
    "class CombinedAttributesAdder(BaseEstimator, TransformerMixin):\n",
    "    def __init__(self, add_bedrooms_per_room=True):\n",
    "        self.add_bedrooms_per_room = add_bedrooms_per_room\n",
    "    def fit(self, X, y=None):\n",
    "        return self\n",
    "    def transform(self, X, y=None):\n",
    "        room_per_house = X[:, rooms_ix] / X[:, household_ix]\n",
    "        population_per_house = X[:, population_ix] / X[:, household_ix]\n",
    "        if self.add_bedrooms_per_room:\n",
    "            bedrooms_per_room = X[:, bedrooms_ix] / X[:, rooms_ix]\n",
    "            return np.c_[X, room_per_house, population_per_house, bedrooms_per_room]\n",
    "        else:\n",
    "            return np.c_[X, room_per_house, population_per_house]\n",
    "\n",
    "# attr_adder = CombinedAttributesAdder(add_bedrooms_per_room=False)\n",
    "# housing_extra_attribs = attr_adder.transform(housing.values)\n",
    "\n",
    "class CustomLabelBinarizer(BaseEstimator, TransformerMixin):\n",
    "    def __init__(self, sparse_output=False):\n",
    "        self.sparse_output = sparse_output\n",
    "    def fit(self, X, y=None):\n",
    "        return self\n",
    "    def transform(self, X, y=None):\n",
    "        enc = LabelBinarizer(sparse_output=self.sparse_output)\n",
    "        return enc.fit_transform(X)\n",
    "\n",
    "\n",
    "from sklearn.pipeline import Pipeline\n",
    "from sklearn.preprocessing import StandardScaler\n",
    "from sklearn.impute import SimpleImputer\n",
    "\n",
    "num_pipeline = Pipeline([('imputer', SimpleImputer(strategy='median')),\n",
    "                         ('attribs_adder', CombinedAttributesAdder()),\n",
    "                         ('std_scaler', StandardScaler())])\n",
    "housing_num_str = num_pipeline.fit_transform(housing_num)\n",
    "\n",
    "\n",
    "from sklearn.pipeline import FeatureUnion\n",
    "from sklearn.preprocessing import LabelBinarizer\n",
    "from sklearn_features.transformers import DataFrameSelector\n",
    "\n",
    "num_attribs = list(housing_num)\n",
    "cat_attribs = [\"ocean_proximity\"]\n",
    "\n",
    "num_pipeline = Pipeline([('selector', DataFrameSelector(num_attribs)),\n",
    "                         ('imputer', SimpleImputer(strategy='median')),\n",
    "                         ('attribs_adder', CombinedAttributesAdder()),\n",
    "                         ('std_scaler', StandardScaler())])\n",
    "cat_pipeline = Pipeline([('selector', DataFrameSelector(cat_attribs)),\n",
    "                         ('label_binarizer', CustomLabelBinarizer())])\n",
    "\n",
    "full_pipeline = FeatureUnion(transformer_list=[('num_pipeline',num_pipeline),\n",
    "                                               ('cat_pipeline',cat_pipeline)])\n",
    "\n",
    "housing_prepared = full_pipeline.fit_transform(housing)\n",
    "# print('Before Shape',housing.shape)\n",
    "# print('After Shaple',housing_prepared.shape)\n",
    "\n",
    "\n",
    "# Begin To LinearRegression Train\n",
    "from sklearn.linear_model import LinearRegression\n",
    "lin_reg = LinearRegression()\n",
    "lin_reg.fit(housing_prepared, housing_labels)\n",
    "\n",
    "\n",
    "some_data_prepared = housing_prepared[:5]\n",
    "some_labels = housing_labels.iloc[:5]\n",
    "\n",
    "print(\"Labels:\\t\\t\", list(some_labels))\n",
    "print(\"Predictions:\\t\", lin_reg.predict(some_data_prepared))\n",
    "\n",
    "\n",
    "from sklearn.metrics import mean_squared_error\n",
    "from sklearn.tree import DecisionTreeRegressor\n",
    "\n",
    "tree_reg = DecisionTreeRegressor()\n",
    "tree_reg.fit(housing_prepared, housing_labels)\n",
    "\n",
    "housing_predictions = tree_reg.predict(some_data_prepared)\n",
    "tree_mse = mean_squared_error(some_labels, housing_predictions)\n",
    "tree_rmse = np.sqrt(tree_mse)\n",
    "\n",
    "print(tree_rmse)\n",
    "\n",
    "\n",
    "from sklearn.model_selection import cross_val_score\n",
    "scores = cross_val_score(tree_reg, housing_prepared, housing_labels,\n",
    "                             scoring=\"neg_mean_squared_error\", cv=10)\n",
    "rmse_scores = np.sqrt(-scores)\n",
    "\n",
    "def display_scores(scores):\n",
    "    print(\"Scores:\", scores)\n",
    "    print(\"Mean:\", scores.mean())\n",
    "    print(\"Standard deviation:\", scores.std())\n",
    "\n",
    "# display_scores(rmse_scores)\n",
    "\n",
    "\n",
    "from sklearn.ensemble import RandomForestRegressor\n",
    "\n",
    "forest_reg = RandomForestRegressor()\n",
    "forest_reg.fit(housing_prepared, housing_labels)\n",
    "housing_predictions = tree_reg.predict(some_data_prepared)\n",
    "scores = cross_val_score(forest_reg, housing_prepared, housing_labels,\n",
    "                             scoring=\"neg_mean_squared_error\", cv=10)\n",
    "rmse_scores = np.sqrt(-scores)\n",
    "display_scores(rmse_scores)"
   ]
  },
  {
   "cell_type": "markdown",
   "metadata": {},
   "source": [
    "Fine-Tune Your Model"
   ]
  },
  {
   "cell_type": "code",
   "execution_count": 34,
   "metadata": {},
   "outputs": [
    {
     "name": "stdout",
     "output_type": "stream",
     "text": [
      "grid search time: 45.02827596664429\n"
     ]
    },
    {
     "ename": "AttributeError",
     "evalue": "'list' object has no attribute 'values'",
     "output_type": "error",
     "traceback": [
      "\u001b[0;31m---------------------------------------------------------------------------\u001b[0m",
      "\u001b[0;31mAttributeError\u001b[0m                            Traceback (most recent call last)",
      "\u001b[0;32m<ipython-input-34-72bdae5e78c3>\u001b[0m in \u001b[0;36m<module>\u001b[0;34m\u001b[0m\n\u001b[1;32m     18\u001b[0m random_grid_search = RandomizedSearchCV(forest_reg, param_distributions=param_grid, \n\u001b[1;32m     19\u001b[0m                                         n_iter=n_iter_search, cv=5)\n\u001b[0;32m---> 20\u001b[0;31m \u001b[0mrandom_grid_search\u001b[0m\u001b[0;34m.\u001b[0m\u001b[0mfit\u001b[0m\u001b[0;34m(\u001b[0m\u001b[0mhousing_prepared\u001b[0m\u001b[0;34m,\u001b[0m \u001b[0mhousing_labels\u001b[0m\u001b[0;34m)\u001b[0m\u001b[0;34m\u001b[0m\u001b[0m\n\u001b[0m\u001b[1;32m     21\u001b[0m \u001b[0mrandome_final_model\u001b[0m \u001b[0;34m=\u001b[0m \u001b[0mrandom_grid_search\u001b[0m\u001b[0;34m.\u001b[0m\u001b[0mbest_esitimator_\u001b[0m\u001b[0;34m\u001b[0m\u001b[0m\n\u001b[1;32m     22\u001b[0m \u001b[0mprint\u001b[0m\u001b[0;34m(\u001b[0m\u001b[0;34m'random grid search time:'\u001b[0m\u001b[0;34m,\u001b[0m\u001b[0mtime\u001b[0m\u001b[0;34m.\u001b[0m\u001b[0mtime\u001b[0m\u001b[0;34m(\u001b[0m\u001b[0;34m)\u001b[0m\u001b[0;34m-\u001b[0m\u001b[0mstart\u001b[0m\u001b[0;34m)\u001b[0m\u001b[0;34m\u001b[0m\u001b[0m\n",
      "\u001b[0;32m/usr/local/lib/python3.6/site-packages/sklearn/model_selection/_search.py\u001b[0m in \u001b[0;36mfit\u001b[0;34m(self, X, y, groups, **fit_params)\u001b[0m\n\u001b[1;32m    720\u001b[0m                 \u001b[0;32mreturn\u001b[0m \u001b[0mresults_container\u001b[0m\u001b[0;34m[\u001b[0m\u001b[0;36m0\u001b[0m\u001b[0;34m]\u001b[0m\u001b[0;34m\u001b[0m\u001b[0m\n\u001b[1;32m    721\u001b[0m \u001b[0;34m\u001b[0m\u001b[0m\n\u001b[0;32m--> 722\u001b[0;31m             \u001b[0mself\u001b[0m\u001b[0;34m.\u001b[0m\u001b[0m_run_search\u001b[0m\u001b[0;34m(\u001b[0m\u001b[0mevaluate_candidates\u001b[0m\u001b[0;34m)\u001b[0m\u001b[0;34m\u001b[0m\u001b[0m\n\u001b[0m\u001b[1;32m    723\u001b[0m \u001b[0;34m\u001b[0m\u001b[0m\n\u001b[1;32m    724\u001b[0m         \u001b[0mresults\u001b[0m \u001b[0;34m=\u001b[0m \u001b[0mresults_container\u001b[0m\u001b[0;34m[\u001b[0m\u001b[0;36m0\u001b[0m\u001b[0;34m]\u001b[0m\u001b[0;34m\u001b[0m\u001b[0m\n",
      "\u001b[0;32m/usr/local/lib/python3.6/site-packages/sklearn/model_selection/_search.py\u001b[0m in \u001b[0;36m_run_search\u001b[0;34m(self, evaluate_candidates)\u001b[0m\n\u001b[1;32m   1513\u001b[0m         evaluate_candidates(ParameterSampler(\n\u001b[1;32m   1514\u001b[0m             \u001b[0mself\u001b[0m\u001b[0;34m.\u001b[0m\u001b[0mparam_distributions\u001b[0m\u001b[0;34m,\u001b[0m \u001b[0mself\u001b[0m\u001b[0;34m.\u001b[0m\u001b[0mn_iter\u001b[0m\u001b[0;34m,\u001b[0m\u001b[0;34m\u001b[0m\u001b[0m\n\u001b[0;32m-> 1515\u001b[0;31m             random_state=self.random_state))\n\u001b[0m",
      "\u001b[0;32m/usr/local/lib/python3.6/site-packages/sklearn/model_selection/_search.py\u001b[0m in \u001b[0;36mevaluate_candidates\u001b[0;34m(candidate_params)\u001b[0m\n\u001b[1;32m    694\u001b[0m \u001b[0;34m\u001b[0m\u001b[0m\n\u001b[1;32m    695\u001b[0m             \u001b[0;32mdef\u001b[0m \u001b[0mevaluate_candidates\u001b[0m\u001b[0;34m(\u001b[0m\u001b[0mcandidate_params\u001b[0m\u001b[0;34m)\u001b[0m\u001b[0;34m:\u001b[0m\u001b[0;34m\u001b[0m\u001b[0m\n\u001b[0;32m--> 696\u001b[0;31m                 \u001b[0mcandidate_params\u001b[0m \u001b[0;34m=\u001b[0m \u001b[0mlist\u001b[0m\u001b[0;34m(\u001b[0m\u001b[0mcandidate_params\u001b[0m\u001b[0;34m)\u001b[0m\u001b[0;34m\u001b[0m\u001b[0m\n\u001b[0m\u001b[1;32m    697\u001b[0m                 \u001b[0mn_candidates\u001b[0m \u001b[0;34m=\u001b[0m \u001b[0mlen\u001b[0m\u001b[0;34m(\u001b[0m\u001b[0mcandidate_params\u001b[0m\u001b[0;34m)\u001b[0m\u001b[0;34m\u001b[0m\u001b[0m\n\u001b[1;32m    698\u001b[0m \u001b[0;34m\u001b[0m\u001b[0m\n",
      "\u001b[0;32m/usr/local/lib/python3.6/site-packages/sklearn/model_selection/_search.py\u001b[0m in \u001b[0;36m__iter__\u001b[0;34m(self)\u001b[0m\n\u001b[1;32m    255\u001b[0m         \u001b[0;31m# in this case we want to sample without replacement\u001b[0m\u001b[0;34m\u001b[0m\u001b[0;34m\u001b[0m\u001b[0m\n\u001b[1;32m    256\u001b[0m         all_lists = np.all([not hasattr(v, \"rvs\")\n\u001b[0;32m--> 257\u001b[0;31m                             for v in self.param_distributions.values()])\n\u001b[0m\u001b[1;32m    258\u001b[0m         \u001b[0mrnd\u001b[0m \u001b[0;34m=\u001b[0m \u001b[0mcheck_random_state\u001b[0m\u001b[0;34m(\u001b[0m\u001b[0mself\u001b[0m\u001b[0;34m.\u001b[0m\u001b[0mrandom_state\u001b[0m\u001b[0;34m)\u001b[0m\u001b[0;34m\u001b[0m\u001b[0m\n\u001b[1;32m    259\u001b[0m \u001b[0;34m\u001b[0m\u001b[0m\n",
      "\u001b[0;31mAttributeError\u001b[0m: 'list' object has no attribute 'values'"
     ]
    }
   ],
   "source": [
    "# Grid Search\n",
    "from sklearn.model_selection import GridSearchCV\n",
    "\n",
    "param_grid = [{'n_estimators': [3, 10, 30], 'max_features': [2, 4, 6, 8]},\n",
    "        {'bootstrap': [False], 'n_estimators': [3, 10], 'max_features': [2, 3, 4]},]\n",
    "\n",
    "import time\n",
    "start = time.time()\n",
    "forest_reg = RandomForestRegressor()\n",
    "grid_search = GridSearchCV(forest_reg, param_grid, cv=5, scoring='neg_mean_squared_error')\n",
    "grid_search.fit(housing_prepared, housing_labels)\n",
    "final_model = grid_search.best_estimator_\n",
    "print('grid search time:',time.time()-start)\n",
    "\n",
    "start = time.time()\n",
    "from sklearn.model_selection import RandomizedSearchCV\n",
    "n_iter_search = 20\n",
    "random_grid_search = RandomizedSearchCV(forest_reg, param_distributions=param_grid, \n",
    "                                        n_iter=n_iter_search, cv=5)\n",
    "random_grid_search.fit(housing_prepared, housing_labels)\n",
    "randome_final_model = random_grid_search.best_esitimator_\n",
    "print('random grid search time:',time.time()-start)\n",
    "\n",
    "X_test = test_set.drop(\"median_house_value\", axis=1)\n",
    "y_test = test_set[\"median_house_value\"].copy()\n",
    "X_test_prepared = full_pipeline.transform(X_test)\n",
    "final_predictions = final_model.predict(X_test_prepared)\n",
    "final_mse = mean_squared_error(y_test, final_predictions)\n",
    "final_rmse = np.sqrt(final_mse)\n",
    "print('Final RMSE=',final_rmse) # 48353.557673105075"
   ]
  },
  {
   "cell_type": "code",
   "execution_count": null,
   "metadata": {},
   "outputs": [],
   "source": []
  }
 ],
 "metadata": {
  "kernelspec": {
   "display_name": "Python 3",
   "language": "python",
   "name": "python3"
  },
  "language_info": {
   "codemirror_mode": {
    "name": "ipython",
    "version": 3
   },
   "file_extension": ".py",
   "mimetype": "text/x-python",
   "name": "python",
   "nbconvert_exporter": "python",
   "pygments_lexer": "ipython3",
   "version": "3.6.5"
  }
 },
 "nbformat": 4,
 "nbformat_minor": 2
}
